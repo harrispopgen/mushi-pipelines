{
 "cells": [
  {
   "cell_type": "markdown",
   "metadata": {},
   "source": [
    "Inferring demography and mutation spectrum history for human populations\n",
    "==\n",
    "- Plots using nextflow pipeline output in `output/` directory"
   ]
  },
  {
   "cell_type": "code",
   "execution_count": null,
   "metadata": {},
   "outputs": [],
   "source": [
    "import pickle\n",
    "import glob\n",
    "import numpy as np\n",
    "import matplotlib.pyplot as plt\n",
    "import matplotlib as mpl\n",
    "from mushi.utils import prf\n",
    "from collections import defaultdict\n",
    "import seaborn as sns\n",
    "from sklearn.decomposition import PCA\n",
    "import umap\n",
    "import tensorly\n",
    "from tensorly.decomposition import non_negative_parafac\n",
    "import pandas as pd\n",
    "\n",
    "mpl.rc('text', usetex=True)\n",
    "mpl.rcParams['text.latex.preamble']=r\"\\usepackage{amsmath}\""
   ]
  },
  {
   "cell_type": "code",
   "execution_count": null,
   "metadata": {},
   "outputs": [],
   "source": [
    "mask_slicer = slice(0, -10)\n",
    "t_gen = 29"
   ]
  },
  {
   "cell_type": "markdown",
   "metadata": {},
   "source": [
    "## $\\eta$ parameter sweep for CEU population"
   ]
  },
  {
   "cell_type": "code",
   "execution_count": null,
   "metadata": {},
   "outputs": [],
   "source": [
    "heatmap_data = []\n",
    "for i, f in enumerate(glob.glob('output/eta_sweep/*/EUR_CEU/dat*')):\n",
    "    alpha_params, beta_params, ksfs, population = pickle.load(open(f, 'rb'))\n",
    "    loss = float(-prf(ksfs.mu.Z, ksfs.X[mask_slicer, :], ksfs.L[mask_slicer, :]))\n",
    "    heatmap_data.append([alpha_params['alpha_tv'], alpha_params['alpha_spline'], loss, ksfs])\n",
    "\n",
    "heatmap_data = np.array(heatmap_data)\n",
    "heatmap_data = heatmap_data[np.lexsort(heatmap_data[:, 1::-1].T)]\n",
    "# delta loss\n",
    "heatmap_data[:, 2] = heatmap_data[:, 2] - heatmap_data[0, 2]"
   ]
  },
  {
   "cell_type": "code",
   "execution_count": null,
   "metadata": {},
   "outputs": [],
   "source": [
    "fig, axes = plt.subplots(1, 3, figsize=(9, 3))\n",
    "\n",
    "plt.sca(axes[0])\n",
    "x = np.unique(heatmap_data[:, 0])\n",
    "y = np.unique(heatmap_data[:, 1])\n",
    "Z = heatmap_data[:, 2].reshape(len(x), len(y)).T\n",
    "contour = plt.contour(x, y, Z, levels=20, colors='k', linewidths=.5)\n",
    "heatmap = plt.contourf(contour, levels=[0, 150, 1000, Z.max()], colors=['c', 'm', 'y'])\n",
    "cbar = fig.colorbar(heatmap)\n",
    "cbar.ax.set_ylabel(r'$\\Delta$ loss')\n",
    "# Add the contour line levels to the colorbar\n",
    "cbar.add_lines(contour)\n",
    "# annotate point used for other sweep\n",
    "plt.plot(1e2, 3e3, 'ko')\n",
    "plt.xscale('symlog')\n",
    "plt.yscale('symlog')\n",
    "plt.xlabel(r'$\\alpha_1$')\n",
    "plt.ylabel(r'$\\alpha_2$')\n",
    "\n",
    "for i, data in enumerate(heatmap_data):\n",
    "    alpha_tv, alpha_spline, relative_loss, ksfs = data\n",
    "        \n",
    "    if heatmap.levels[1] <= relative_loss <= heatmap.levels[2]:\n",
    "        alpha = .9\n",
    "        zorder = 2\n",
    "        color = 'm'\n",
    "        lw = 0.2\n",
    "    elif relative_loss <= heatmap.levels[1]:\n",
    "        alpha = .5\n",
    "        zorder = 1\n",
    "        color = 'c'\n",
    "        lw = .5\n",
    "    else:\n",
    "        alpha = .25\n",
    "        zorder = 1\n",
    "        color = 'y'\n",
    "        lw = .5\n",
    "\n",
    "    plt.sca(axes[1])\n",
    "    ksfs.eta.plot(t_gen=t_gen, alpha=alpha, zorder=zorder, lw=lw, c=color)\n",
    "\n",
    "    plt.sca(axes[2])\n",
    "    ksfs.mu.plot(('TCC>TTC', ), t_gen=t_gen, alpha=alpha, zorder=zorder, lw=lw, c=color)\n",
    "\n",
    "    \n",
    "plt.sca(axes[1])\n",
    "plt.xlim([1e3, 1e6])\n",
    "                 \n",
    "plt.sca(axes[2])\n",
    "plt.title(r'TCC$\\to$TTC')\n",
    "plt.xlim([1e3, 1e6])\n",
    "\n",
    "plt.tight_layout()\n",
    "plt.savefig('plots/eta_sweep.pdf')"
   ]
  },
  {
   "cell_type": "markdown",
   "metadata": {},
   "source": [
    "## $\\boldsymbol\\mu$ parameter sweep for CEU population"
   ]
  },
  {
   "cell_type": "code",
   "execution_count": null,
   "metadata": {},
   "outputs": [],
   "source": [
    "heatmap_data = []\n",
    "for i, f in enumerate(glob.glob('output/mu_sweep/*/EUR_CEU/dat*')):\n",
    "    alpha_params, beta_params, ksfs, population = pickle.load(open(f, 'rb'))\n",
    "    loss = float(-prf(ksfs.mu.Z, ksfs.X[mask_slicer, :], ksfs.L[mask_slicer, :]))\n",
    "    heatmap_data.append([beta_params['beta_tv'], beta_params['beta_spline'], loss, ksfs])\n",
    "\n",
    "heatmap_data = np.array(heatmap_data)\n",
    "heatmap_data = heatmap_data[np.lexsort(heatmap_data[:, 1::-1].T)]\n",
    "# delta loss\n",
    "heatmap_data[:, 2] = heatmap_data[:, 2] - heatmap_data[0, 2]"
   ]
  },
  {
   "cell_type": "code",
   "execution_count": null,
   "metadata": {},
   "outputs": [],
   "source": [
    "fig, axes = plt.subplots(1, 3, figsize=(9, 3))\n",
    "\n",
    "plt.sca(axes[0])\n",
    "x = np.unique(heatmap_data[:, 0])\n",
    "y = np.unique(heatmap_data[:, 1])\n",
    "Z = heatmap_data[:, 2].reshape(len(x), len(y)).T\n",
    "contour = plt.contour(x, y, Z, levels=20, colors='k', linewidths=.5)\n",
    "heatmap = plt.contourf(contour, levels=[0, 300, 500, Z.max()], colors=['c', 'm', 'y'])\n",
    "cbar = fig.colorbar(heatmap)\n",
    "cbar.ax.set_ylabel(r'$\\Delta$ loss')\n",
    "# Add the contour line levels to the colorbar\n",
    "cbar.add_lines(contour)\n",
    "# annotate point used for other sweep\n",
    "plt.plot(7e1, 0, 'ko')\n",
    "plt.xscale('symlog')\n",
    "plt.yscale('symlog')\n",
    "plt.xlabel(r'$\\beta_1$')\n",
    "plt.ylabel(r'$\\beta_2$')\n",
    "\n",
    "for i, data in enumerate(heatmap_data):\n",
    "    beta_tv, beta_spline, relative_loss, ksfs = data\n",
    "        \n",
    "    if heatmap.levels[1] <= relative_loss <= heatmap.levels[2]:\n",
    "        alpha = .9\n",
    "        zorder = 2\n",
    "        color = 'm'\n",
    "        lw = 0.2\n",
    "    elif relative_loss <= heatmap.levels[1]:\n",
    "        alpha = .5\n",
    "        zorder = 1\n",
    "        color = 'c'\n",
    "        lw = .5\n",
    "    else:\n",
    "        alpha = .25\n",
    "        zorder = 1\n",
    "        color = 'y'\n",
    "        lw = .5\n",
    "\n",
    "    plt.sca(axes[1])\n",
    "    ksfs.eta.plot(t_gen=t_gen, alpha=alpha, zorder=zorder, lw=lw, c=color)\n",
    "\n",
    "    plt.sca(axes[2])\n",
    "    ksfs.mu.plot(('TCC>TTC',), t_gen=t_gen, alpha=alpha, zorder=zorder, lw=lw, c=color)\n",
    "\n",
    "plt.sca(axes[1])\n",
    "plt.xlim([1e3, 1e6])\n",
    "                 \n",
    "plt.sca(axes[2])\n",
    "plt.title(r'TCC$\\to$TTC')\n",
    "plt.xlim([1e3, 1e6])\n",
    "plt.ylim([0.4, 0.9])\n",
    "\n",
    "plt.tight_layout()\n",
    "plt.savefig('plots/mu_sweep.pdf')"
   ]
  },
  {
   "cell_type": "markdown",
   "metadata": {},
   "source": [
    "## Point estimates for TCC pulse\n",
    "- Make a tidy plot with the regularization parameters indicated by points in previous plots\n",
    "- Use all EUR populations"
   ]
  },
  {
   "cell_type": "code",
   "execution_count": null,
   "metadata": {},
   "outputs": [],
   "source": [
    "for method in ('Tennessen', 'Relate', 'mushi'):\n",
    "    print(method)\n",
    "    fig, axes = plt.subplots(nrows=2, ncols=2, figsize=(7, 7))\n",
    "\n",
    "    files = glob.glob(f'output/europulse_{method}/*/dat.pkl')\n",
    "    for idx, file in enumerate(files):\n",
    "        pop = file.split('/')[2].split('_')[1]\n",
    "        beta_params, ksfs, population = pickle.load(open(file, 'rb'))[-3:]\n",
    "\n",
    "        plt.sca(axes[0, 0])\n",
    "        ksfs.plot_total(kwargs=dict(ls='', alpha=0.5, marker='o', ms=5, mfc='none', c=f'C{idx}', label=pop, rasterized=True),\n",
    "                        line_kwargs=dict(c=f'C{idx}', ls=':', marker='.', ms=3, alpha=0.5, lw=1, rasterized=True),\n",
    "                        fill_kwargs=dict(color=f'C{idx}', alpha=0))\n",
    "        plt.xscale('log')\n",
    "        plt.yscale('log')\n",
    "        plt.legend(fontsize=6, loc='upper right')\n",
    "        if idx < len(files) - 1:\n",
    "            plt.xlabel(None)\n",
    "\n",
    "        plt.sca(axes[0, 1])\n",
    "        ksfs.eta.plot(t_gen=t_gen, lw=2, label=pop, alpha=0.75, c=f'C{idx}')\n",
    "        plt.xlim([1e3, 1e6])\n",
    "        plt.legend(fontsize=6, loc='upper right')\n",
    "        if idx < len(files) - 1:\n",
    "            plt.xlabel(None)\n",
    "\n",
    "        plt.sca(axes[1, 0])\n",
    "        ksfs.plot(('TCC>TTC',), clr=True,\n",
    "                  kwargs=dict(ls='', c=f'C{idx}', marker='o', ms=5, mfc='none', alpha=0.5, label=pop, rasterized=True),\n",
    "                  line_kwargs=dict(c=f'C{idx}', ls=':', marker='.', ms=3, alpha=0.5, lw=1, rasterized=True))\n",
    "        plt.ylabel('TCC$\\\\to$TTC component of\\nvariant count composition')\n",
    "        plt.legend(fontsize=6)\n",
    "\n",
    "        plt.sca(axes[1, 1])\n",
    "        plt.gca().set_prop_cycle(None)\n",
    "        ksfs.mu.plot(('TCC>TTC',), t_gen=t_gen, clr=False, c=f'C{idx}', alpha=0.75, lw=2, label=pop)\n",
    "        plt.ylabel('TCC$\\\\to$TTC mutation intensity')\n",
    "        plt.xlim([1e3, 1e6])\n",
    "        plt.legend(fontsize=6)\n",
    "\n",
    "    plt.tight_layout()\n",
    "    plt.savefig(f'plots/europulse_{method}.pdf')\n",
    "    plt.show()"
   ]
  },
  {
   "cell_type": "markdown",
   "metadata": {},
   "source": [
    "## Inferring $\\eta$ from folded SFS for each population"
   ]
  },
  {
   "cell_type": "code",
   "execution_count": null,
   "metadata": {},
   "outputs": [],
   "source": [
    "files = glob.glob('output/mush_folded/*/dat.pkl')\n",
    "\n",
    "ksfs_dict = {}\n",
    "pops = defaultdict(list)\n",
    "\n",
    "for file in files:\n",
    "    super_pop, pop = file.split('/')[2].split('_')\n",
    "    alpha_params, beta_params, ksfs, population = pickle.load(open(file, 'rb'))\n",
    "    pops[super_pop].append(pop)\n",
    "    ksfs_dict[pop] = ksfs"
   ]
  },
  {
   "cell_type": "code",
   "execution_count": null,
   "metadata": {},
   "outputs": [],
   "source": [
    "fig = plt.figure(figsize=(4, 3))\n",
    "for idx_super, super_pop in enumerate(sorted(pops)):\n",
    "    for idx, pop in enumerate(reversed(pops[super_pop])):\n",
    "        ksfs_dict[pop].eta.plot(t_gen=t_gen, lw=3, label=super_pop if idx == 0 else None, alpha=0.3, c=f'C{idx_super}')\n",
    "        plt.xlim([1e3, 1e6])\n",
    "plt.tight_layout()\n",
    "plt.savefig('plots/etas_folded.pdf')"
   ]
  },
  {
   "cell_type": "markdown",
   "metadata": {},
   "source": [
    "## Inferring $\\eta$ from unfolded SFS for each population"
   ]
  },
  {
   "cell_type": "code",
   "execution_count": null,
   "metadata": {},
   "outputs": [],
   "source": [
    "files = glob.glob('output/mush/*/dat.pkl')\n",
    "\n",
    "ksfs_dict = {}\n",
    "pops = defaultdict(list)\n",
    "\n",
    "for file in files:\n",
    "    super_pop, pop = file.split('/')[2].split('_')\n",
    "    alpha_params, beta_params, ksfs, population = pickle.load(open(file, 'rb'))\n",
    "    pops[super_pop].append(pop)\n",
    "    ksfs_dict[pop] = ksfs"
   ]
  },
  {
   "cell_type": "code",
   "execution_count": null,
   "metadata": {},
   "outputs": [],
   "source": [
    "fig = plt.figure(figsize=(4, 3))\n",
    "for idx_super, super_pop in enumerate(sorted(pops)):\n",
    "    for idx, pop in enumerate(reversed(pops[super_pop])):\n",
    "        ksfs_dict[pop].eta.plot(t_gen=t_gen, lw=3, label=super_pop if idx == 0 else None, alpha=0.3, c=f'C{idx_super}')\n",
    "        plt.xlim([1e3, 1e6])\n",
    "plt.legend(loc='upper right', fontsize=9)\n",
    "plt.tight_layout()\n",
    "plt.savefig('plots/etas.pdf')"
   ]
  },
  {
   "cell_type": "markdown",
   "metadata": {},
   "source": [
    "Same as above, stratified by super-population, and including SFS fit"
   ]
  },
  {
   "cell_type": "code",
   "execution_count": null,
   "metadata": {},
   "outputs": [],
   "source": [
    "fig, axes = plt.subplots(len(pops), 2, sharex='col', figsize=(6, 1.7 * len(pops)), squeeze=False)\n",
    "for idx_super, super_pop in enumerate(pops):\n",
    "    for idx, pop in enumerate(pops[super_pop]):\n",
    "        plt.sca(axes[idx_super, 0])\n",
    "        ksfs_dict[pop].plot_total(kwargs=dict(ls='', alpha=0.5, marker='o', ms=5, mfc='none', c=f'C{idx}', label=pop, rasterized=True),\n",
    "                                  line_kwargs=dict(c=f'C{idx}', ls=':', marker='.', ms=3, alpha=0.5, lw=1, rasterized=True),\n",
    "                                  fill_kwargs=dict(color=f'C{idx}', alpha=0))\n",
    "        plt.xscale('log')\n",
    "        plt.yscale('log')\n",
    "        plt.legend(fontsize=6, loc='upper right')\n",
    "        if idx_super < len(pops) - 1:\n",
    "            plt.xlabel(None)\n",
    "        plt.sca(axes[idx_super, 1])\n",
    "        ksfs_dict[pop].eta.plot(t_gen=t_gen, lw=2, label=pop, alpha=0.75, c=f'C{idx}')\n",
    "        plt.xlim([1e3, 1e6])\n",
    "        plt.legend(fontsize=6, loc='upper right')\n",
    "        if idx_super < len(pops) - 1:\n",
    "            plt.xlabel(None)\n",
    "plt.tight_layout()\n",
    "plt.savefig('plots/sfsetas.pdf')"
   ]
  },
  {
   "cell_type": "markdown",
   "metadata": {},
   "source": [
    "## $k$-SFS and inferred $\\boldsymbol\\mu$"
   ]
  },
  {
   "cell_type": "code",
   "execution_count": null,
   "metadata": {
    "scrolled": false
   },
   "outputs": [],
   "source": [
    "with mpl.rc_context(rc={'text.usetex': False}):\n",
    "    for idx_super, super_pop in enumerate(sorted(pops)):\n",
    "        for idx, pop in enumerate(reversed(pops[super_pop])):\n",
    "            print(super_pop, pop)\n",
    "\n",
    "            plt.figure(figsize=(6, 10))\n",
    "            plt.subplot(121)\n",
    "            ksfs_dict[pop].plot(clr=True, kwargs=dict(alpha=0.25, ls='', marker='o',\n",
    "                                                      ms=3, mfc='none', rasterized=True),\n",
    "                                line_kwargs=dict(ls=':', marker='.', ms=2, alpha=0.25,\n",
    "                                                 lw=1, rasterized=True))\n",
    "            plt.ylabel('variant count composition')\n",
    "            plt.subplot(122)\n",
    "            ksfs_dict[pop].μ.plot(t_gen=t_gen, clr=True, alpha=0.5, lw=2)\n",
    "            plt.xscale('log')\n",
    "            plt.ylabel('mutation intensity composition')\n",
    "            plt.xlim([1e3, 1e6])\n",
    "            plt.show()\n",
    "\n",
    "            singlets = [f'{anc}>{der}' for anc, der in zip(ksfs_dict[pop].mutation_types.str[1],\n",
    "                                                           ksfs_dict[pop].mutation_types.str[5])]\n",
    "\n",
    "            ksfs_dict[pop].mutation_types.str[1].str.cat(ksfs_dict[pop].mutation_types.str[5], sep='>')\n",
    "\n",
    "            pal = sns.color_palette('husl', n_colors=6)\n",
    "            col_map = {'A>C': pal[0], 'A>G': pal[1], 'A>T': pal[2], 'C>A': pal[3], 'C>G': pal[4], 'C>T': pal[5]}\n",
    "            col_colors = [col_map[singlet] for singlet in singlets]\n",
    "\n",
    "            ksfs_dict[pop].clustermap(figsize=(20, 7), col_cluster=False,\n",
    "                                      xticklabels=True, rasterized=True,\n",
    "                                      robust=True, cmap='RdBu_r',\n",
    "                                      col_colors=col_colors)\n",
    "            plt.show()\n",
    "\n",
    "            ksfs_dict[pop].μ.clustermap(t_gen=t_gen,\n",
    "                                        figsize=(20, 7), col_cluster=False, xticklabels=True, rasterized=True,\n",
    "                                        robust=True, cmap='RdBu_r',\n",
    "                                        col_colors=col_colors)\n",
    "            plt.show()\n",
    "\n",
    "            # just first pop from each superpop\n",
    "            break\n",
    "        # break after first superpop\n",
    "        break"
   ]
  },
  {
   "cell_type": "markdown",
   "metadata": {},
   "source": [
    "## Tensor decomposition and mutation signature dynamics\n",
    "### Non-negative CP decomposition\n",
    "\n",
    "Stack the MuSHs for each population, scaled to site-wise rates, to form a tensor of order 3"
   ]
  },
  {
   "cell_type": "code",
   "execution_count": null,
   "metadata": {},
   "outputs": [],
   "source": [
    "sorted_triplets = [f'{a5}{a}{a3}>{a5}{d}{a3}' for a in 'AC' for d in 'ACGT' if d != a for a5 in 'ACGT' for a3 in 'ACGT']\n",
    "masked_genome_size = pd.read_csv('output/masked_size.tsv', sep='\\t', header=None, index_col=0, names=('count',))\n",
    "targets = np.array([masked_genome_size.loc[triplet.split('>')[0], 'count'] for triplet in sorted_triplets])\n",
    "\n",
    "Z = np.concatenate([(ksfs_dict[pop].mu.Z / targets)[np.newaxis, :, :]\n",
    "                    for super_pop in sorted(pops)\n",
    "                    for pop in reversed(pops[super_pop])], 0)"
   ]
  },
  {
   "cell_type": "markdown",
   "metadata": {},
   "source": [
    "NNCP decomposition to extract factors for each dimension: sample, time, and mutation type. We try a range of ranks and assess reconstruction error at each."
   ]
  },
  {
   "cell_type": "code",
   "execution_count": null,
   "metadata": {},
   "outputs": [],
   "source": [
    "ranks = range(1, 11)\n",
    "errors = []\n",
    "tensors = {}\n",
    "for rank in ranks:\n",
    "    # NOTE: normalize_factors=True leads to instability for some reason\n",
    "    tensor, error = non_negative_parafac(Z, rank=rank,\n",
    "                                         orthogonalise=False, normalize_factors=False,\n",
    "                                         tol=1e-7, n_iter_max=1000, cvg_criterion='rec_error',\n",
    "                                         random_state=0, return_errors=True)\n",
    "    print(f'rank {rank} decomposition, error = {error[-1]}')\n",
    "    errors.append(error[-1])\n",
    "    tensors[rank] = tensor[1]\n",
    "\n",
    "plt.figure(figsize=(3, 4))\n",
    "plt.plot(ranks, errors, 'ko')\n",
    "plt.xlabel('rank')\n",
    "plt.xticks(ranks)\n",
    "plt.ylabel('reconstruction error')\n",
    "plt.tight_layout()\n",
    "plt.savefig('plots/elbow.pdf')"
   ]
  },
  {
   "cell_type": "markdown",
   "metadata": {},
   "source": [
    "Choose rank"
   ]
  },
  {
   "cell_type": "code",
   "execution_count": null,
   "metadata": {},
   "outputs": [],
   "source": [
    "rank = 5\n",
    "factors_sample, factors_history, factors_signature = tensors[rank]"
   ]
  },
  {
   "cell_type": "markdown",
   "metadata": {},
   "source": [
    "### Project the sample dimension factors to two principal components"
   ]
  },
  {
   "cell_type": "code",
   "execution_count": null,
   "metadata": {},
   "outputs": [],
   "source": [
    "x, y = PCA(n_components=2).fit_transform(factors_sample).T\n",
    "plt.figure(figsize=(4, 4))\n",
    "sns.scatterplot(x=x, y=y, hue=[super_pop for super_pop in sorted(pops)\n",
    "                               for pop in reversed(pops[super_pop])])\n",
    "i = 0\n",
    "for super_pop in sorted(pops):\n",
    "    for pop in reversed(pops[super_pop]):\n",
    "        plt.annotate(pop, (x[i], y[i]), size=6)\n",
    "        i += 1\n",
    "plt.xlabel('PC 1')\n",
    "plt.ylabel('PC 2')\n",
    "plt.tight_layout()\n",
    "plt.savefig('plots/factors_pop.pdf')"
   ]
  },
  {
   "cell_type": "markdown",
   "metadata": {},
   "source": [
    "### Project the time dimension factors to two principal components"
   ]
  },
  {
   "cell_type": "code",
   "execution_count": null,
   "metadata": {},
   "outputs": [],
   "source": [
    "xy = PCA(n_components=2).fit_transform(factors_history)\n",
    "idxs = (1e3 <= t_gen * ksfs_dict[pop].mu.arrays()[0][:-1]) & (t_gen * ksfs_dict[pop].mu.arrays()[0][:-1] <= 1e6)\n",
    "plt.figure(figsize=(4, 4))\n",
    "x = np.dstack((xy[idxs][:-1, 0], xy[idxs][1:, 0])).flatten()\n",
    "y = np.dstack((xy[idxs][:-1, 1], xy[idxs][1:, 1])).flatten()\n",
    "z = t_gen * np.dstack((ksfs_dict[pop].mu.arrays()[0][:-1][idxs][:-1], ksfs_dict[pop].mu.arrays()[0][:-1][idxs][:-1])).flatten()\n",
    "norm = mpl.colors.LogNorm(vmin=1e3, vmax=1e6)\n",
    "points = plt.scatter(x=x, y=y, c=z, s=0, norm=norm, cmap='viridis')\n",
    "sns.lineplot(x=x, y=y, hue=z, hue_norm=norm, lw=3, legend=False, palette='viridis')\n",
    "cbar= plt.colorbar(points)\n",
    "cbar.set_label('$t$ (years ago)', rotation=90)\n",
    "plt.xlabel('PC 1')\n",
    "plt.ylabel('PC 2')\n",
    "plt.tight_layout()\n",
    "plt.savefig('plots/factors_history.pdf')"
   ]
  },
  {
   "cell_type": "markdown",
   "metadata": {},
   "source": [
    "### Project the mutation type dimension factors to two principal components"
   ]
  },
  {
   "cell_type": "code",
   "execution_count": null,
   "metadata": {},
   "outputs": [],
   "source": [
    "with mpl.rc_context(rc={'text.usetex': False}):\n",
    "    singlets = [f'{anc}>{der}' for anc, der in zip(ksfs_dict[pop].mutation_types.str[1],\n",
    "                                                   ksfs_dict[pop].mutation_types.str[5])]\n",
    "    x, y = PCA(n_components=2).fit_transform(factors_signature).T\n",
    "    plt.figure(figsize=(4, 4))\n",
    "    sns.scatterplot(x=x, y=y, hue=singlets, palette='husl')\n",
    "    for i, mutation_type in enumerate(ksfs_dict[pop].mu.mutation_types):\n",
    "        if np.abs([x[i], y[i]]).max() > 0.15:\n",
    "            plt.annotate(mutation_type, (x[i], y[i]), size=6)\n",
    "    plt.xlabel('PC 1')\n",
    "    plt.ylabel('PC 2')\n",
    "    plt.tight_layout()\n",
    "    plt.savefig('plots/factors_mutation.pdf')"
   ]
  },
  {
   "cell_type": "markdown",
   "metadata": {},
   "source": [
    "### Display mutation type loadings as mutation signatures"
   ]
  },
  {
   "cell_type": "code",
   "execution_count": null,
   "metadata": {},
   "outputs": [],
   "source": [
    "signature_df = pd.DataFrame(factors_signature,\n",
    "                            columns=[i for i in range(1, factors_signature.shape[1] + 1)])\n",
    "signature_df['mutation type'] = ksfs_dict[pop].mu.mutation_types\n",
    "signature_df['singlet type'] = singlets\n",
    "\n",
    "pal = sns.color_palette('husl', n_colors=6)\n",
    "colors = {'A>C': pal[0], 'A>G': pal[1], 'A>T': pal[2],\n",
    "          'C>A': pal[3], 'C>G': pal[4], 'C>T': pal[5]}\n",
    "palette = [colors[singlet] for singlet in signature_df['singlet type']]\n",
    "signature_df = signature_df.melt(id_vars=['mutation type', 'singlet type'], var_name='signature')\n",
    "\n",
    "with mpl.rc_context(rc={'text.usetex': False}):\n",
    "    g = sns.FacetGrid(signature_df, row='signature', aspect=8, height=1.5,\n",
    "                      margin_titles=True, sharey=True)\n",
    "    g = g.map(sns.barplot, 'mutation type', 'value',\n",
    "              order=ksfs_dict[pop].mu.mutation_types,\n",
    "              palette=palette)\n",
    "    g.set_xticklabels(rotation=90, fontsize=8, family='monospace')\n",
    "    for xtick, color in zip(g.axes.flat[-1].get_xticklabels(), palette):\n",
    "        xtick.set_color(color)\n",
    "    plt.tight_layout()\n",
    "    plt.savefig('plots/signatures.pdf')"
   ]
  },
  {
   "cell_type": "markdown",
   "metadata": {},
   "source": [
    "### Mutation signature dynamics in each population\n",
    "\n",
    "- rows correspond to mutation signatures\n",
    "- columns correspond to super populations"
   ]
  },
  {
   "cell_type": "code",
   "execution_count": null,
   "metadata": {},
   "outputs": [],
   "source": [
    "factors_signature_normed = factors_signature * targets[:, np.newaxis]\n",
    "factors_signature_normed /= factors_signature_normed.sum(0, keepdims=True)\n",
    "\n",
    "Z_transform = tensorly.tenalg.mode_dot(Z * targets[np.newaxis, np.newaxis, :], factors_signature_normed.T, mode=2)\n",
    "\n",
    "fig, axes = plt.subplots(Z_transform.shape[2], len(pops), sharex=True, sharey='row', figsize=(2.1 * len(pops), 1.5 * Z_transform.shape[2]))\n",
    "for k in range(Z_transform.shape[2]):\n",
    "    i = 0\n",
    "    for idx, super_pop in enumerate(sorted(pops)):\n",
    "        plt.sca(axes[k, idx])\n",
    "        for idx2, pop in enumerate(reversed(pops[super_pop])):\n",
    "            plt.plot(t_gen * ksfs_dict[pop].mu.arrays()[0][:-1], Z_transform[i, :, k],\n",
    "                     label=pop)\n",
    "            plt.xscale('log')\n",
    "            plt.xlim([1e3, 1e6])\n",
    "            i += 1\n",
    "        if k == 0:\n",
    "            plt.title(super_pop)\n",
    "            plt.legend(fontsize=6, loc='upper right', ncol=2)\n",
    "        elif k == Z_transform.shape[2] - 1:\n",
    "            plt.xlabel('$t$ (years ago)')\n",
    "plt.tight_layout()\n",
    "plt.savefig('plots/signature_histories.pdf')"
   ]
  },
  {
   "cell_type": "markdown",
   "metadata": {},
   "source": [
    "The same histories overlayed for all populations"
   ]
  },
  {
   "cell_type": "code",
   "execution_count": null,
   "metadata": {},
   "outputs": [],
   "source": [
    "fig, axes = plt.subplots(Z_transform.shape[2], 1, sharex=True, sharey=True, figsize=(3, 1.5 * Z_transform.shape[2]))\n",
    "for k in range(Z_transform.shape[2]):\n",
    "    i = 0\n",
    "    plt.sca(axes[k])\n",
    "    for idx, super_pop in enumerate(sorted(pops)):\n",
    "        for idx2, pop in enumerate(reversed(pops[super_pop])):\n",
    "            plt.plot(t_gen * ksfs_dict[pop].mu.arrays()[0][:-1], Z_transform[i, :, k],\n",
    "                     label=(super_pop if idx2 == 0 else None), c=f'C{idx}')\n",
    "            plt.xscale('log')\n",
    "            plt.xlim([1e3, 1e6])\n",
    "            i += 1\n",
    "    if k == 0:\n",
    "        plt.legend(fontsize=6, loc='upper right')\n",
    "plt.xlabel('$t$ (years ago)')\n",
    "plt.tight_layout()\n",
    "plt.savefig('plots/signature_histories_all.pdf')"
   ]
  },
  {
   "cell_type": "markdown",
   "metadata": {},
   "source": [
    "## Global divergence in mutation spectra\n",
    "\n",
    "### UMAP embedding of mutation signatures through time for all populations"
   ]
  },
  {
   "cell_type": "code",
   "execution_count": null,
   "metadata": {},
   "outputs": [],
   "source": [
    "time = t_gen * np.concatenate(([0], ksfs_dict[pop].μ.change_points))\n",
    "time_mask = ((1e3 <= time) & (time <= 1e6))\n",
    "\n",
    "np.random.seed(1)\n",
    "\n",
    "embedding_init = PCA(n_components=2)\n",
    "embedding_init.fit(factors_history[time_mask, :])\n",
    "\n",
    "colors = {super_pop: f'C{idx}' for idx, super_pop in enumerate(sorted(pops))}\n",
    "\n",
    "Z_dict = {}\n",
    "i = 0\n",
    "for super_pop in sorted(pops):\n",
    "    for pop in reversed(pops[super_pop]):\n",
    "        Z_dict[pop] = Z_transform[i, time_mask, :]\n",
    "        i += 1\n",
    "\n",
    "Z_stack = np.concatenate([Z_dict[pop] for super_pop in pops for pop in pops[super_pop]])\n",
    "embedding = umap.UMAP(n_components=2,\n",
    "                      n_epochs=1000,\n",
    "                      init=embedding_init.transform(Z_stack),\n",
    "                      random_state=1)\n",
    "embedding.fit(Z_stack)\n",
    "\n",
    "\n",
    "Z_transform_dict = {pop: embedding.transform(Z_dict[pop])\n",
    "                    for super_pop in pops\n",
    "                    for pop in pops[super_pop]}"
   ]
  },
  {
   "cell_type": "markdown",
   "metadata": {},
   "source": [
    "### Plot embedding"
   ]
  },
  {
   "cell_type": "code",
   "execution_count": null,
   "metadata": {
    "scrolled": false
   },
   "outputs": [],
   "source": [
    "with mpl.rc_context(rc={'text.usetex': False}):\n",
    "\n",
    "    plt.figure(figsize=(6, 6))\n",
    "    # plt.subplot(311)\n",
    "    for super_pop in pops:\n",
    "        for idx2, pop in enumerate(pops[super_pop]):\n",
    "            plt.plot(*Z_transform_dict[pop].T,\n",
    "                     '-', lw=3, alpha=.5,\n",
    "                     c=colors[super_pop],\n",
    "                     label=super_pop if idx2 == 0 else None)\n",
    "            plt.annotate(pop, Z_transform_dict[pop][0, :],\n",
    "                         ha='center', va='center', c='w',\n",
    "                         family='monospace',\n",
    "                         bbox=dict(boxstyle='circle', fc=colors[super_pop], ec=colors[super_pop], lw=2),\n",
    "                         size=6)\n",
    "    plt.xlabel('UMAP 1')\n",
    "    plt.ylabel('UMAP 2')\n",
    "    plt.legend()\n",
    "    plt.tight_layout()\n",
    "    plt.savefig('plots/umap.pdf')\n",
    "    \n",
    "\n",
    "    fig = plt.figure(figsize=(6, 6))\n",
    "    ax = fig.gca(projection='3d')\n",
    "    ax.view_init(20, 170)\n",
    "    for super_pop in pops:\n",
    "        for pop in pops[super_pop]:\n",
    "            ax.plot(*Z_transform_dict[pop].T, np.log10(time[time_mask]),\n",
    "                    '-', lw=3, alpha=1,\n",
    "                    c=colors[super_pop],\n",
    "                    label=super_pop if idx2 == 0 else None)\n",
    "    ax.set_xlabel('UMAP 1')\n",
    "    ax.set_ylabel('UMAP 2')\n",
    "    ax.set_zlabel('$\\log_{10}(t)$')\n",
    "    ax.set_zticks([3, 4, 5, 6])\n",
    "    ax.set_zlim([3, 6])\n",
    "    plt.tight_layout()\n",
    "    plt.savefig('plots/umap_3d.pdf')\n"
   ]
  },
  {
   "cell_type": "code",
   "execution_count": null,
   "metadata": {},
   "outputs": [],
   "source": []
  }
 ],
 "metadata": {
  "kernelspec": {
   "display_name": "Python 3",
   "language": "python",
   "name": "python3"
  },
  "language_info": {
   "codemirror_mode": {
    "name": "ipython",
    "version": 3
   },
   "file_extension": ".py",
   "mimetype": "text/x-python",
   "name": "python",
   "nbconvert_exporter": "python",
   "pygments_lexer": "ipython3",
   "version": "3.7.8"
  }
 },
 "nbformat": 4,
 "nbformat_minor": 4
}
